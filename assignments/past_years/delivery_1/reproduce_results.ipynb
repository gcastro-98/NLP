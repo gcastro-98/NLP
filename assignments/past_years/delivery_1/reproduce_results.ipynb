{
 "cells": [
  {
   "cell_type": "markdown",
   "id": "f8e45084",
   "metadata": {},
   "source": [
    "# NLP Task 1: Artur Xarles & Enric Azuara - Reproduce_results notebook"
   ]
  },
  {
   "cell_type": "markdown",
   "id": "21165f18",
   "metadata": {},
   "source": [
    "We first read all the packages required as well as the different functions and classes created to implement the different approaches."
   ]
  },
  {
   "cell_type": "code",
   "execution_count": 1,
   "id": "994ab4d4",
   "metadata": {},
   "outputs": [],
   "source": [
    "import pandas\n",
    "from sklearn import model_selection\n",
    "from sklearn.linear_model import LogisticRegression\n",
    "import joblib\n",
    "import pandas as pd\n",
    "from utils import *\n",
    "import sklearn\n",
    "import matplotlib.pyplot as plt"
   ]
  },
  {
   "cell_type": "code",
   "execution_count": 2,
   "id": "e3770d03",
   "metadata": {},
   "outputs": [],
   "source": [
    "train_df = pd.read_csv(\"quora_train_data.csv\")\n",
    "A_df, test_df = sklearn.model_selection.train_test_split(train_df, test_size=0.05, random_state=123)\n",
    "train_df, val_df = sklearn.model_selection.train_test_split(A_df, test_size=0.05, random_state=123)"
   ]
  },
  {
   "cell_type": "markdown",
   "id": "e4349573",
   "metadata": {},
   "source": [
    "## Load sets with different features"
   ]
  },
  {
   "cell_type": "markdown",
   "id": "1bc4e411",
   "metadata": {},
   "source": [
    "First of all, we will read the different features created. In this case we have features such as the ones obtained through count vectorizer and TF-IDF. Moreover, these approaches have been also implemented using lemmatization and stemming so we also read these features. Finally, a set of extra features containing different information about the questions."
   ]
  },
  {
   "cell_type": "code",
   "execution_count": 3,
   "id": "ec7052ef",
   "metadata": {},
   "outputs": [],
   "source": [
    "#CV\n",
    "q1_train_count = scipy.sparse.load_npz('./data/CV_train_q1.npz')\n",
    "q2_train_count = scipy.sparse.load_npz('./data/CV_train_q2.npz')\n",
    "q1_val_count = scipy.sparse.load_npz('./data/CV_val_q1.npz')\n",
    "q2_val_count = scipy.sparse.load_npz('./data/CV_val_q2.npz')\n",
    "#TF-IDF\n",
    "q1_train_tfidf = scipy.sparse.load_npz('./data/tfidf_train_q1.npz')\n",
    "q2_train_tfidf = scipy.sparse.load_npz('./data/tfidf_train_q2.npz')\n",
    "q1_val_tfidf = scipy.sparse.load_npz('./data/tfidf_val_q1.npz')\n",
    "q2_val_tfidf = scipy.sparse.load_npz('./data/tfidf_val_q2.npz')\n",
    "#CV lemmatization\n",
    "q1_train_count_lem = scipy.sparse.load_npz('./data/CV_lem_train_q1.npz')\n",
    "q2_train_count_lem = scipy.sparse.load_npz('./data/CV_lem_train_q2.npz')\n",
    "q1_val_count_lem = scipy.sparse.load_npz('./data/CV_lem_val_q1.npz')\n",
    "q2_val_count_lem = scipy.sparse.load_npz('./data/CV_lem_val_q2.npz')\n",
    "#TF-IDF lemmatization\n",
    "q1_train_tfidf_lem = scipy.sparse.load_npz('./data/tfidf_lem_train_q1.npz')\n",
    "q2_train_tfidf_lem = scipy.sparse.load_npz('./data/tfidf_lem_train_q2.npz')\n",
    "q1_val_tfidf_lem = scipy.sparse.load_npz('./data/tfidf_lem_val_q1.npz')\n",
    "q2_val_tfidf_lem = scipy.sparse.load_npz('./data/tfidf_lem_val_q2.npz')\n",
    "#CV stemming\n",
    "q1_train_count_stem = scipy.sparse.load_npz('./data/CV_stem_train_q1.npz')\n",
    "q2_train_count_stem = scipy.sparse.load_npz('./data/CV_stem_train_q2.npz')\n",
    "q1_val_count_stem = scipy.sparse.load_npz('./data/CV_stem_val_q1.npz')\n",
    "q2_val_count_stem = scipy.sparse.load_npz('./data/CV_stem_val_q2.npz')\n",
    "#TF-IDF stemming\n",
    "q1_train_tfidf_stem = scipy.sparse.load_npz('./data/tfidf_stem_train_q1.npz')\n",
    "q2_train_tfidf_stem = scipy.sparse.load_npz('./data/tfidf_stem_train_q2.npz')\n",
    "q1_val_tfidf_stem = scipy.sparse.load_npz('./data/tfidf_stem_val_q1.npz')\n",
    "q2_val_tfidf_stem = scipy.sparse.load_npz('./data/tfidf_stem_val_q2.npz')\n",
    "#Extra features\n",
    "extra_features_train = np.load('./data/extra_features_train.npy')\n",
    "extra_features_val = np.load('./data/extra_features_val.npy')"
   ]
  },
  {
   "cell_type": "markdown",
   "id": "7e8fa0fb",
   "metadata": {},
   "source": [
    "## Modelization"
   ]
  },
  {
   "cell_type": "markdown",
   "id": "5ec08d9e",
   "metadata": {},
   "source": [
    "Once we have read all the required features, we will show the results for all the models tried. We started with the simple count vectorizer feature vectors and merged the features of both questions using the different strategies explained in the report. We can see the results:"
   ]
  },
  {
   "cell_type": "markdown",
   "id": "2b1d9f2a",
   "metadata": {},
   "source": [
    "*Count Vectorizer*"
   ]
  },
  {
   "cell_type": "code",
   "execution_count": 4,
   "id": "21dbc815",
   "metadata": {},
   "outputs": [
    {
     "name": "stderr",
     "output_type": "stream",
     "text": [
      "C:\\Users\\Enric\\anaconda3\\lib\\site-packages\\sklearn\\base.py:329: UserWarning: Trying to unpickle estimator LogisticRegression from version 0.24.2 when using version 1.0.2. This might lead to breaking code or invalid results. Use at your own risk. For more info please refer to:\n",
      "https://scikit-learn.org/stable/modules/model_persistence.html#security-maintainability-limitations\n",
      "  warnings.warn(\n",
      "C:\\Users\\Enric\\anaconda3\\lib\\site-packages\\sklearn\\base.py:329: UserWarning: Trying to unpickle estimator LogisticRegression from version 0.24.2 when using version 1.0.2. This might lead to breaking code or invalid results. Use at your own risk. For more info please refer to:\n",
      "https://scikit-learn.org/stable/modules/model_persistence.html#security-maintainability-limitations\n",
      "  warnings.warn(\n",
      "C:\\Users\\Enric\\anaconda3\\lib\\site-packages\\sklearn\\base.py:329: UserWarning: Trying to unpickle estimator LogisticRegression from version 0.24.2 when using version 1.0.2. This might lead to breaking code or invalid results. Use at your own risk. For more info please refer to:\n",
      "https://scikit-learn.org/stable/modules/model_persistence.html#security-maintainability-limitations\n",
      "  warnings.warn(\n",
      "C:\\Users\\Enric\\anaconda3\\lib\\site-packages\\sklearn\\base.py:329: UserWarning: Trying to unpickle estimator LogisticRegression from version 0.24.2 when using version 1.0.2. This might lead to breaking code or invalid results. Use at your own risk. For more info please refer to:\n",
      "https://scikit-learn.org/stable/modules/model_persistence.html#security-maintainability-limitations\n",
      "  warnings.warn(\n"
     ]
    }
   ],
   "source": [
    "accuracy = []\n",
    "logloss = []\n",
    "merging = ['Horizontal', 'Difference', 'Cosine', 'Different/product']\n",
    "\n",
    "#Horizontal stack\n",
    "features_val = stack_features(q1_val_count, q2_val_count)\n",
    "model = joblib.load('./models/log_CV_stack.pkl')\n",
    "accuracy.append((val_df['is_duplicate'].values == model.predict(features_val)).mean())\n",
    "logloss.append(sklearn.metrics.log_loss(val_df['is_duplicate'].values, model.predict_proba(features_val)))\n",
    "\n",
    "#Difference of features\n",
    "features_val = difference(q1_val_count, q2_val_count)\n",
    "model = joblib.load('./models/log_CV_diff.pkl')\n",
    "accuracy.append((val_df['is_duplicate'].values == model.predict(features_val)).mean())\n",
    "logloss.append(sklearn.metrics.log_loss(val_df['is_duplicate'].values, model.predict_proba(features_val)))\n",
    "\n",
    "#Cosine similarity\n",
    "features_val = similarity(q1_val_count, q2_val_count)\n",
    "model = joblib.load('./models/log_CV_sim.pkl')\n",
    "accuracy.append((val_df['is_duplicate'].values == model.predict(features_val)).mean())\n",
    "logloss.append(sklearn.metrics.log_loss(val_df['is_duplicate'].values, model.predict_proba(features_val)))\n",
    "\n",
    "#Different/product of features\n",
    "features_val = different_product(q1_val_count, q2_val_count)\n",
    "model = joblib.load('./models/log_CV_difprod.pkl')\n",
    "accuracy.append((val_df['is_duplicate'].values == model.predict(features_val)).mean())\n",
    "logloss.append(sklearn.metrics.log_loss(val_df['is_duplicate'].values, model.predict_proba(features_val)))"
   ]
  },
  {
   "cell_type": "code",
   "execution_count": 5,
   "id": "4ae922bf",
   "metadata": {},
   "outputs": [
    {
     "name": "stdout",
     "output_type": "stream",
     "text": [
      "=-=-=-=-=-=-=-=-=-=-=-=-=-=-=-=-=-=-=-=-=-=-=-=-=\n",
      "Horizontal logloss: 0.5176230416122677\n",
      "Horizontal accuracy: 0.7490073553342446\n",
      "=-=-=-=-=-=-=-=-=-=-=-=-=-=-=-=-=-=-=-=-=-=-=-=-=\n",
      "Difference logloss: 0.460220255923132\n",
      "Difference accuracy: 0.7715940896960229\n",
      "=-=-=-=-=-=-=-=-=-=-=-=-=-=-=-=-=-=-=-=-=-=-=-=-=\n",
      "Cosine logloss: 0.5940441277862787\n",
      "Cosine accuracy: 0.6416064570721864\n",
      "=-=-=-=-=-=-=-=-=-=-=-=-=-=-=-=-=-=-=-=-=-=-=-=-=\n",
      "Different/Product logloss: 0.4576782926453907\n",
      "Different/Product accuracy: 0.7715940896960229\n",
      "=-=-=-=-=-=-=-=-=-=-=-=-=-=-=-=-=-=-=-=-=-=-=-=-=\n"
     ]
    }
   ],
   "source": [
    "print(\"=-=-=-=-=-=-=-=-=-=-=-=-=-=-=-=-=-=-=-=-=-=-=-=-=\")\n",
    "print(\"Horizontal logloss: \" + str(logloss[0]))\n",
    "print(\"Horizontal accuracy: \" + str(accuracy[0]))\n",
    "print(\"=-=-=-=-=-=-=-=-=-=-=-=-=-=-=-=-=-=-=-=-=-=-=-=-=\")\n",
    "print(\"Difference logloss: \" + str(logloss[1]))\n",
    "print(\"Difference accuracy: \" + str(accuracy[1]))\n",
    "print(\"=-=-=-=-=-=-=-=-=-=-=-=-=-=-=-=-=-=-=-=-=-=-=-=-=\")\n",
    "print(\"Cosine logloss: \" + str(logloss[2]))\n",
    "print(\"Cosine accuracy: \" + str(accuracy[2]))\n",
    "print(\"=-=-=-=-=-=-=-=-=-=-=-=-=-=-=-=-=-=-=-=-=-=-=-=-=\")\n",
    "print(\"Different/Product logloss: \" + str(logloss[3]))\n",
    "print(\"Different/Product accuracy: \" + str(accuracy[3]))\n",
    "print(\"=-=-=-=-=-=-=-=-=-=-=-=-=-=-=-=-=-=-=-=-=-=-=-=-=\")"
   ]
  },
  {
   "cell_type": "code",
   "execution_count": 6,
   "id": "73a9477e",
   "metadata": {},
   "outputs": [
    {
     "data": {
      "image/png": "[encoded data removed]",
      "text/plain": [
       "<Figure size 432x288 with 1 Axes>"
      ]
     },
     "metadata": {
      "needs_background": "light"
     },
     "output_type": "display_data"
    }
   ],
   "source": [
    "Metrics=['Accuracy','Logloss']\n",
    "pos = np.arange(len(merging))\n",
    "bar_width = 0.35\n",
    " \n",
    "plt.bar(pos,accuracy,bar_width,color='blue',edgecolor='black')\n",
    "plt.bar(pos+bar_width,logloss,bar_width,color='pink',edgecolor='black')\n",
    "plt.xticks(pos, merging)\n",
    "plt.xlabel('Merging strategy', fontsize=12)\n",
    "plt.ylabel('Value', fontsize=12)\n",
    "plt.title('Metric by each method using count vectorizer feature vectors',fontsize=14)\n",
    "plt.legend(Metrics,loc=2)\n",
    "plt.show()"
   ]
  },
  {
   "cell_type": "markdown",
   "id": "7fe3d097",
   "metadata": {},
   "source": [
    "We can see that the method that give better results in terms of accuracy and logloss is the last one, achieving an accuracy of 0.77 and a logloss of 0.46, is the absolute difference of feature vectors."
   ]
  },
  {
   "cell_type": "markdown",
   "id": "d9a1a0b3",
   "metadata": {},
   "source": [
    "We try the same implementations using the TF-IDF feature vectors:"
   ]
  },
  {
   "cell_type": "markdown",
   "id": "2f739284",
   "metadata": {},
   "source": [
    "*TF-IDF*"
   ]
  },
  {
   "cell_type": "code",
   "execution_count": 9,
   "id": "a89fde87",
   "metadata": {},
   "outputs": [
    {
     "name": "stderr",
     "output_type": "stream",
     "text": [
      "C:\\Users\\Enric\\anaconda3\\lib\\site-packages\\sklearn\\base.py:329: UserWarning: Trying to unpickle estimator LogisticRegression from version 0.24.2 when using version 1.0.2. This might lead to breaking code or invalid results. Use at your own risk. For more info please refer to:\n",
      "https://scikit-learn.org/stable/modules/model_persistence.html#security-maintainability-limitations\n",
      "  warnings.warn(\n",
      "C:\\Users\\Enric\\anaconda3\\lib\\site-packages\\sklearn\\base.py:329: UserWarning: Trying to unpickle estimator LogisticRegression from version 0.24.2 when using version 1.0.2. This might lead to breaking code or invalid results. Use at your own risk. For more info please refer to:\n",
      "https://scikit-learn.org/stable/modules/model_persistence.html#security-maintainability-limitations\n",
      "  warnings.warn(\n",
      "C:\\Users\\Enric\\anaconda3\\lib\\site-packages\\sklearn\\base.py:329: UserWarning: Trying to unpickle estimator LogisticRegression from version 0.24.2 when using version 1.0.2. This might lead to breaking code or invalid results. Use at your own risk. For more info please refer to:\n",
      "https://scikit-learn.org/stable/modules/model_persistence.html#security-maintainability-limitations\n",
      "  warnings.warn(\n",
      "C:\\Users\\Enric\\anaconda3\\lib\\site-packages\\sklearn\\base.py:329: UserWarning: Trying to unpickle estimator LogisticRegression from version 0.24.2 when using version 1.0.2. This might lead to breaking code or invalid results. Use at your own risk. For more info please refer to:\n",
      "https://scikit-learn.org/stable/modules/model_persistence.html#security-maintainability-limitations\n",
      "  warnings.warn(\n"
     ]
    }
   ],
   "source": [
    "accuracy = []\n",
    "logloss = []\n",
    "merging = ['Horizontal', 'Difference', 'Cosine', 'Different/product']\n",
    "\n",
    "#Horizontal stack\n",
    "features_val = stack_features(q1_val_tfidf, q2_val_tfidf)\n",
    "model = joblib.load('./models/log_tfidf_stack.pkl')\n",
    "accuracy.append((val_df['is_duplicate'].values == model.predict(features_val)).mean())\n",
    "logloss.append(sklearn.metrics.log_loss(val_df['is_duplicate'].values, model.predict_proba(features_val)))\n",
    "\n",
    "#Difference of features\n",
    "features_val = difference(q1_val_tfidf, q2_val_tfidf)\n",
    "model = joblib.load('./models/log_tfidf_dif.pkl')\n",
    "accuracy.append((val_df['is_duplicate'].values == model.predict(features_val)).mean())\n",
    "logloss.append(sklearn.metrics.log_loss(val_df['is_duplicate'].values, model.predict_proba(features_val)))\n",
    "\n",
    "#Cosine similarity\n",
    "features_val = similarity(q1_val_tfidf, q2_val_tfidf)\n",
    "model = joblib.load('./models/log_tfidf_sim.pkl')\n",
    "accuracy.append((val_df['is_duplicate'].values == model.predict(features_val)).mean())\n",
    "logloss.append(sklearn.metrics.log_loss(val_df['is_duplicate'].values, model.predict_proba(features_val)))\n",
    "\n",
    "#Different/product of features\n",
    "features_val = different_product(q1_val_tfidf, q2_val_tfidf)\n",
    "model = joblib.load('./models/log_tfidf_difprod.pkl')\n",
    "accuracy.append((val_df['is_duplicate'].values == model.predict(features_val)).mean())\n",
    "logloss.append(sklearn.metrics.log_loss(val_df['is_duplicate'].values, model.predict_proba(features_val)))"
   ]
  },
  {
   "cell_type": "code",
   "execution_count": 10,
   "id": "6860bb66",
   "metadata": {},
   "outputs": [
    {
     "name": "stdout",
     "output_type": "stream",
     "text": [
      "=-=-=-=-=-=-=-=-=-=-=-=-=-=-=-=-=-=-=-=-=-=-=-=-=\n",
      "Horizontal logloss: 0.6723110022656916\n",
      "Horizontal accuracy: 0.724598060274686\n",
      "=-=-=-=-=-=-=-=-=-=-=-=-=-=-=-=-=-=-=-=-=-=-=-=-=\n",
      "Difference logloss: 0.48640039578895083\n",
      "Difference accuracy: 0.7777126863242856\n",
      "=-=-=-=-=-=-=-=-=-=-=-=-=-=-=-=-=-=-=-=-=-=-=-=-=\n",
      "Cosine logloss: 0.5805705852543142\n",
      "Cosine accuracy: 0.6506541691075962\n",
      "=-=-=-=-=-=-=-=-=-=-=-=-=-=-=-=-=-=-=-=-=-=-=-=-=\n",
      "Different/Product logloss: 0.7133509370738693\n",
      "Different/Product accuracy: 0.7513506476599623\n",
      "=-=-=-=-=-=-=-=-=-=-=-=-=-=-=-=-=-=-=-=-=-=-=-=-=\n"
     ]
    }
   ],
   "source": [
    "print(\"=-=-=-=-=-=-=-=-=-=-=-=-=-=-=-=-=-=-=-=-=-=-=-=-=\")\n",
    "print(\"Horizontal logloss: \" + str(logloss[0]))\n",
    "print(\"Horizontal accuracy: \" + str(accuracy[0]))\n",
    "print(\"=-=-=-=-=-=-=-=-=-=-=-=-=-=-=-=-=-=-=-=-=-=-=-=-=\")\n",
    "print(\"Difference logloss: \" + str(logloss[1]))\n",
    "print(\"Difference accuracy: \" + str(accuracy[1]))\n",
    "print(\"=-=-=-=-=-=-=-=-=-=-=-=-=-=-=-=-=-=-=-=-=-=-=-=-=\")\n",
    "print(\"Cosine logloss: \" + str(logloss[2]))\n",
    "print(\"Cosine accuracy: \" + str(accuracy[2]))\n",
    "print(\"=-=-=-=-=-=-=-=-=-=-=-=-=-=-=-=-=-=-=-=-=-=-=-=-=\")\n",
    "print(\"Different/Product logloss: \" + str(logloss[3]))\n",
    "print(\"Different/Product accuracy: \" + str(accuracy[3]))\n",
    "print(\"=-=-=-=-=-=-=-=-=-=-=-=-=-=-=-=-=-=-=-=-=-=-=-=-=\")"
   ]
  },
  {
   "cell_type": "code",
   "execution_count": 11,
   "id": "c58b3565",
   "metadata": {
    "scrolled": true
   },
   "outputs": [
    {
     "data": {
      "image/png": "[encoded data removed]",
      "text/plain": [
       "<Figure size 432x288 with 1 Axes>"
      ]
     },
     "metadata": {
      "needs_background": "light"
     },
     "output_type": "display_data"
    }
   ],
   "source": [
    "Metrics=['Accuracy','Logloss']\n",
    "pos = np.arange(len(merging))\n",
    "bar_width = 0.35\n",
    " \n",
    "plt.bar(pos,accuracy,bar_width,color='blue',edgecolor='black')\n",
    "plt.bar(pos+bar_width,logloss,bar_width,color='pink',edgecolor='black')\n",
    "plt.xticks(pos, merging)\n",
    "plt.xlabel('Merging strategy', fontsize=12)\n",
    "plt.ylabel('Value', fontsize=12)\n",
    "plt.title('Metric by each method using TF-IDF feature vectors',fontsize=14)\n",
    "plt.legend(Metrics,loc=2)\n",
    "plt.show()"
   ]
  },
  {
   "cell_type": "markdown",
   "id": "348fc117",
   "metadata": {},
   "source": [
    "Using these feature vectors we get a bit better results in terms of accuracy, achieving for the absolute difference of feature vectors approach an accuracy of 0.78 and logloss of 0.49."
   ]
  },
  {
   "cell_type": "markdown",
   "id": "05307116",
   "metadata": {},
   "source": [
    "After seeing that both feature vectors give similar results but that the better approach is to get the absolute difference of feature vectors of both questions, we will try to use both feature vectors and also introduce cosine similarity distance."
   ]
  },
  {
   "cell_type": "markdown",
   "id": "3aa18b68",
   "metadata": {},
   "source": [
    "*Count vectorizer + TF-IDF + Cosine Similarity*"
   ]
  },
  {
   "cell_type": "code",
   "execution_count": 12,
   "id": "6d24084e",
   "metadata": {},
   "outputs": [
    {
     "name": "stdout",
     "output_type": "stream",
     "text": [
      "logloss validation: 0.4782245286309448\n",
      "Accuracy validation: 0.782464362429213\n"
     ]
    },
    {
     "name": "stderr",
     "output_type": "stream",
     "text": [
      "C:\\Users\\Enric\\anaconda3\\lib\\site-packages\\sklearn\\base.py:329: UserWarning: Trying to unpickle estimator LogisticRegression from version 0.24.2 when using version 1.0.2. This might lead to breaking code or invalid results. Use at your own risk. For more info please refer to:\n",
      "https://scikit-learn.org/stable/modules/model_persistence.html#security-maintainability-limitations\n",
      "  warnings.warn(\n"
     ]
    }
   ],
   "source": [
    "features_train = scipy.sparse.hstack((difference(q1_train_count, q2_train_count),\n",
    "                                      difference(q1_train_tfidf, q2_train_tfidf),\n",
    "                                      similarity(q1_train_count, q2_train_count),\n",
    "                                      similarity(q1_train_tfidf, q2_train_tfidf)))\n",
    "features_val = scipy.sparse.hstack((difference(q1_val_count, q2_val_count),\n",
    "                                    difference(q1_val_tfidf, q2_val_tfidf),\n",
    "                                    similarity(q1_val_count, q2_val_count),\n",
    "                                    similarity(q1_val_tfidf, q2_val_tfidf)))\n",
    "\n",
    "logistic = joblib.load('./models/log_CV_tfidf_mix.pkl')\n",
    "print('logloss validation: ' + str(sklearn.metrics.log_loss(val_df['is_duplicate'].values,\n",
    "                                                            logistic.predict_proba(features_val))))\n",
    "print('Accuracy validation: ' + str((val_df['is_duplicate'].values == logistic.predict(features_val)).mean()))"
   ]
  },
  {
   "cell_type": "markdown",
   "id": "127ab77a",
   "metadata": {},
   "source": [
    "This model using both feature vectors and cosine similarity as inputs improve a bit the accuracy respect to previous ones."
   ]
  },
  {
   "cell_type": "code",
   "execution_count": 13,
   "id": "1048a451",
   "metadata": {},
   "outputs": [
    {
     "name": "stdout",
     "output_type": "stream",
     "text": [
      "What is the best age for having first sex?\n",
      "When is the best age to have sex?\n",
      "true class: 1\n",
      "prediction: 0\n"
     ]
    }
   ],
   "source": [
    "mistake_indices, predictions = get_mistakes(logistic, features_val, val_df['is_duplicate'].values)\n",
    "print_mistake_k(10, val_df, mistake_indices, predictions)"
   ]
  },
  {
   "cell_type": "markdown",
   "id": "d3440d7a",
   "metadata": {},
   "source": [
    "After seeing that our model fails prediction similar questions that use words with the same meaning but written different, we also try to add lemmatization and stemming to the previous model in order to try to solve this problem."
   ]
  },
  {
   "cell_type": "markdown",
   "id": "244bea99",
   "metadata": {},
   "source": [
    "*Lemmatization*"
   ]
  },
  {
   "cell_type": "code",
   "execution_count": 14,
   "id": "2e835091",
   "metadata": {},
   "outputs": [
    {
     "name": "stdout",
     "output_type": "stream",
     "text": [
      "logloss validation: 0.47654072573649153\n",
      "Accuracy validation: 0.7740024734752327\n"
     ]
    },
    {
     "name": "stderr",
     "output_type": "stream",
     "text": [
      "C:\\Users\\Enric\\anaconda3\\lib\\site-packages\\sklearn\\base.py:329: UserWarning: Trying to unpickle estimator LogisticRegression from version 0.24.2 when using version 1.0.2. This might lead to breaking code or invalid results. Use at your own risk. For more info please refer to:\n",
      "https://scikit-learn.org/stable/modules/model_persistence.html#security-maintainability-limitations\n",
      "  warnings.warn(\n"
     ]
    }
   ],
   "source": [
    "features_train = scipy.sparse.hstack((difference(q1_train_count_lem, q2_train_count_lem),\n",
    "                                      difference(q1_train_tfidf_lem, q2_train_tfidf_lem),\n",
    "                                      similarity(q1_train_count_lem, q2_train_count_lem),\n",
    "                                      similarity(q1_train_tfidf_lem, q2_train_tfidf_lem)))\n",
    "features_val = scipy.sparse.hstack((difference(q1_val_count_lem, q2_val_count_lem),\n",
    "                                    difference(q1_val_tfidf_lem, q2_val_tfidf_lem),\n",
    "                                    similarity(q1_val_count_lem, q2_val_count_lem),\n",
    "                                    similarity(q1_val_tfidf_lem, q2_val_tfidf_lem)))\n",
    "\n",
    "\n",
    "logistic = joblib.load('./models/log_CV_tfidf_mix_lem.pkl')\n",
    "print('logloss validation: ' + str(sklearn.metrics.log_loss(val_df['is_duplicate'].values,\n",
    "                                                            logistic.predict_proba(features_val))))\n",
    "print('Accuracy validation: ' + str((val_df['is_duplicate'].values == logistic.predict(features_val)).mean()))"
   ]
  },
  {
   "cell_type": "markdown",
   "id": "90dcec77",
   "metadata": {},
   "source": [
    "*Stemming*"
   ]
  },
  {
   "cell_type": "code",
   "execution_count": 15,
   "id": "0877d4be",
   "metadata": {},
   "outputs": [
    {
     "name": "stdout",
     "output_type": "stream",
     "text": [
      "logloss validation: 0.530299058365541\n",
      "Accuracy validation: 0.761635097311723\n"
     ]
    },
    {
     "name": "stderr",
     "output_type": "stream",
     "text": [
      "C:\\Users\\Enric\\anaconda3\\lib\\site-packages\\sklearn\\base.py:329: UserWarning: Trying to unpickle estimator LogisticRegression from version 0.24.2 when using version 1.0.2. This might lead to breaking code or invalid results. Use at your own risk. For more info please refer to:\n",
      "https://scikit-learn.org/stable/modules/model_persistence.html#security-maintainability-limitations\n",
      "  warnings.warn(\n"
     ]
    }
   ],
   "source": [
    "features_train = scipy.sparse.hstack((different_product(q1_train_count_stem, q2_train_count_stem),\n",
    "                                      different_product(q1_train_tfidf_stem, q2_train_tfidf_stem),\n",
    "                                      similarity(q1_train_count_stem, q2_train_count_stem),\n",
    "                                      similarity(q1_train_tfidf_stem, q2_train_tfidf_stem)))\n",
    "features_val = scipy.sparse.hstack((different_product(q1_val_count_stem, q2_val_count_stem),\n",
    "                                    different_product(q1_val_tfidf_stem, q2_val_tfidf_stem),\n",
    "                                    similarity(q1_val_count_stem, q2_val_count_stem),\n",
    "                                    similarity(q1_val_tfidf_stem, q2_val_tfidf_stem)))\n",
    "\n",
    "logistic = joblib.load('./models/log_CV_tfidf_mix_stem.pkl')\n",
    "print('logloss validation: ' + str(sklearn.metrics.log_loss(val_df['is_duplicate'].values,\n",
    "                                                            logistic.predict_proba(features_val))))\n",
    "print('Accuracy validation: ' + str((val_df['is_duplicate'].values == logistic.predict(features_val)).mean()))"
   ]
  },
  {
   "cell_type": "markdown",
   "id": "3663ad3e",
   "metadata": {},
   "source": [
    "We can see that neither lemmatization or stemming improve the results, so we will not use them."
   ]
  },
  {
   "cell_type": "markdown",
   "id": "a7f1fff4",
   "metadata": {},
   "source": [
    "## Extra features"
   ]
  },
  {
   "cell_type": "markdown",
   "id": "ec38989e",
   "metadata": {},
   "source": [
    "As a final step, we will try to add extra features previously computed to see if they can add valuable information to the model."
   ]
  },
  {
   "cell_type": "code",
   "execution_count": 16,
   "id": "06f571d2",
   "metadata": {},
   "outputs": [
    {
     "name": "stdout",
     "output_type": "stream",
     "text": [
      "logloss validation: 0.4567309766744149\n",
      "Accuracy validation: 0.7912517086506542\n"
     ]
    },
    {
     "name": "stderr",
     "output_type": "stream",
     "text": [
      "C:\\Users\\Enric\\anaconda3\\lib\\site-packages\\sklearn\\base.py:329: UserWarning: Trying to unpickle estimator LogisticRegression from version 0.24.2 when using version 1.0.2. This might lead to breaking code or invalid results. Use at your own risk. For more info please refer to:\n",
      "https://scikit-learn.org/stable/modules/model_persistence.html#security-maintainability-limitations\n",
      "  warnings.warn(\n"
     ]
    }
   ],
   "source": [
    "Variable_X_train = Variable_KeyWords(train_df)\n",
    "features_train_2 = scipy.sparse.hstack((difference(q1_train_count, q2_train_count),\n",
    "                                      difference(q1_train_tfidf, q2_train_tfidf),\n",
    "                                      similarity(q1_train_count, q2_train_count),\n",
    "                                      similarity(q1_train_tfidf, q2_train_tfidf),\n",
    "                                      np.hstack([extra_features_train, Variable_X_train])))\n",
    "\n",
    "Variable_X_val = Variable_KeyWords(val_df)\n",
    "features_val_2 = scipy.sparse.hstack((difference(q1_val_count, q2_val_count),\n",
    "                                    difference(q1_val_tfidf, q2_val_tfidf),\n",
    "                                    similarity(q1_val_count, q2_val_count),\n",
    "                                    similarity(q1_val_tfidf, q2_val_tfidf),\n",
    "                                    np.hstack([extra_features_val, Variable_X_val])))\n",
    "\n",
    "logistic = joblib.load('./models/log_CV_tfidf_extra_mix.pkl')\n",
    "print('logloss validation: ' + str(sklearn.metrics.log_loss(val_df['is_duplicate'].values,\n",
    "                                                            logistic.predict_proba(features_val_2))))\n",
    "print('Accuracy validation: ' + str((val_df['is_duplicate'].values == logistic.predict(features_val_2)).mean()))"
   ]
  },
  {
   "cell_type": "markdown",
   "id": "24d28d82",
   "metadata": {},
   "source": [
    "The extra features improve a little bit the results so we will keep this feature combination for the models."
   ]
  },
  {
   "cell_type": "markdown",
   "id": "d92547c7",
   "metadata": {},
   "source": [
    "## Exploring other models"
   ]
  },
  {
   "cell_type": "markdown",
   "id": "3ad70b0e",
   "metadata": {},
   "source": [
    "Finally, instead of only using logistic regression as a model, we tried xgboost too. We implemented a Grid Search for the parameters obtaining as the best model the following one."
   ]
  },
  {
   "cell_type": "code",
   "execution_count": 17,
   "id": "cd6d2990",
   "metadata": {},
   "outputs": [
    {
     "name": "stdout",
     "output_type": "stream",
     "text": [
      "logloss validation: 0.3869561994078014\n",
      "Accuracy validation: 0.8098678643494109\n"
     ]
    }
   ],
   "source": [
    "best_xgboost = joblib.load('./models/best_model.pkl')\n",
    "print('logloss validation: ' + str(sklearn.metrics.log_loss(val_df['is_duplicate'].values,\n",
    "                                                            best_xgboost.predict_proba(features_val_2))))\n",
    "print('Accuracy validation: ' + str((val_df['is_duplicate'].values == best_xgboost.predict(features_val_2)).mean()))"
   ]
  },
  {
   "cell_type": "markdown",
   "id": "1b86becb",
   "metadata": {},
   "source": [
    "As we can see the best xgboost model has a better performance than the logistic one in the evaluation set so we will keep this one as our final model using the previously mentioned features."
   ]
  },
  {
   "cell_type": "markdown",
   "id": "cfcadaea",
   "metadata": {},
   "source": [
    "*Logistic with L1*"
   ]
  },
  {
   "cell_type": "code",
   "execution_count": 18,
   "id": "b1a0453e",
   "metadata": {},
   "outputs": [
    {
     "name": "stdout",
     "output_type": "stream",
     "text": [
      "logloss validation: 0.44647572263781243\n",
      "Accuracy validation: 0.7896895137668424\n"
     ]
    },
    {
     "name": "stderr",
     "output_type": "stream",
     "text": [
      "C:\\Users\\Enric\\anaconda3\\lib\\site-packages\\sklearn\\base.py:329: UserWarning: Trying to unpickle estimator LogisticRegression from version 0.24.2 when using version 1.0.2. This might lead to breaking code or invalid results. Use at your own risk. For more info please refer to:\n",
      "https://scikit-learn.org/stable/modules/model_persistence.html#security-maintainability-limitations\n",
      "  warnings.warn(\n"
     ]
    }
   ],
   "source": [
    "logistic_l1 = joblib.load('./models/logistic_l1.pkl')\n",
    "print('logloss validation: ' + str(sklearn.metrics.log_loss(val_df['is_duplicate'].values,\n",
    "                                                            logistic_l1.predict_proba(features_val_2))))\n",
    "print('Accuracy validation: ' + str((val_df['is_duplicate'].values == logistic_l1.predict(features_val_2)).mean()))"
   ]
  },
  {
   "cell_type": "markdown",
   "id": "7443514e",
   "metadata": {},
   "source": [
    "We see that changing to the l1 does not improve our results (we had 0.7912)"
   ]
  },
  {
   "cell_type": "markdown",
   "id": "2d4d40c4",
   "metadata": {},
   "source": [
    "## Final model used on test set"
   ]
  },
  {
   "cell_type": "markdown",
   "id": "93e10312",
   "metadata": {},
   "source": [
    "Once we have selected the best method with its pertinent features, we will evaluate the model using the train and validation dataset for training and test to evaluate it. The trained model is the following one and achieve the following results:"
   ]
  },
  {
   "cell_type": "code",
   "execution_count": 19,
   "id": "3633aaf7",
   "metadata": {},
   "outputs": [
    {
     "name": "stdout",
     "output_type": "stream",
     "text": [
      "logloss validation: 0.3820196153925488\n",
      "Accuracy validation: 0.8136284936928023\n"
     ]
    }
   ],
   "source": [
    "FinalModel = joblib.load('./models/final_model.pkl')\n",
    "final_features_train = scipy.sparse.load_npz('./data/final_features_train.npz')\n",
    "final_features_test = scipy.sparse.load_npz('./data/final_features_test.npz')\n",
    "\n",
    "print('logloss validation: ' + str(sklearn.metrics.log_loss(test_df['is_duplicate'].values,\n",
    "                                                            FinalModel.predict_proba(final_features_test))))\n",
    "print('Accuracy validation: ' + str((test_df['is_duplicate'].values == FinalModel.predict(final_features_test)).mean()))"
   ]
  },
  {
   "cell_type": "markdown",
   "id": "0179d04d",
   "metadata": {},
   "source": [
    "We can check the that we have a logloss of $0.382$ and an accuracy of $0.813$ in the test data. It is a considerable improvement respect the initial model that used only count vectorize feature vectors and an horizontal stack as the merging approach between both questions, which had an accuracy of $0.74$ and a logloss of $0.52$."
   ]
  },
  {
   "cell_type": "markdown",
   "id": "293ecc53",
   "metadata": {},
   "source": [
    "Finally we will show some mistakes of the final model and the auc-roc curve."
   ]
  },
  {
   "cell_type": "code",
   "execution_count": 20,
   "id": "00274c54",
   "metadata": {},
   "outputs": [
    {
     "name": "stdout",
     "output_type": "stream",
     "text": [
      "Can I have java 6 and java 8 on the same machine and switch between them?\n",
      "How do I run java 6 & java 8 on the same Machine (Mac)? I want java 8 by default, but at times I will need java 6?\n",
      "true class: 1\n",
      "prediction: 0\n",
      "Who did Negan kill with Lucille in The Walking Dead season 6 finale cliffhanger?\n",
      "[SPOILER] In The Walking Dead Season 6 Finale, who did Negan kill?\n",
      "true class: 1\n",
      "prediction: 0\n",
      "How do spiders sleep?\n",
      "Do spiders sleep?\n",
      "true class: 0\n",
      "prediction: 1\n",
      "How would an MMA fighter fare against a Spartan soldier in hand to hand combat?\n",
      "How well would a Spartan warrior fare against a MMA UFC undefeated champion in hand to hand combat?\n",
      "true class: 1\n",
      "prediction: 0\n"
     ]
    }
   ],
   "source": [
    "mistake_indices, predictions = get_mistakes(FinalModel, final_features_test, test_df['is_duplicate'].values)\n",
    "print_mistake_k(10, test_df, mistake_indices, predictions)\n",
    "print_mistake_k(9, test_df, mistake_indices, predictions)\n",
    "print_mistake_k(8, test_df, mistake_indices, predictions)\n",
    "print_mistake_k(7, test_df, mistake_indices, predictions)"
   ]
  },
  {
   "cell_type": "code",
   "execution_count": 21,
   "id": "1499a4c3",
   "metadata": {},
   "outputs": [
    {
     "data": {
      "image/png": "[encoded data removed]",
      "text/plain": [
       "<Figure size 432x288 with 1 Axes>"
      ]
     },
     "metadata": {
      "needs_background": "light"
     },
     "output_type": "display_data"
    },
    {
     "name": "stdout",
     "output_type": "stream",
     "text": [
      "AUC: 0.8995489030628392\n"
     ]
    }
   ],
   "source": [
    "fpr, tpr, _ = sklearn.metrics.roc_curve(test_df['is_duplicate'].values,  FinalModel.predict_proba(final_features_test)[:, 1])\n",
    "\n",
    "#create ROC curve\n",
    "plt.plot(fpr,tpr)\n",
    "plt.ylabel('True Positive Rate')\n",
    "plt.xlabel('False Positive Rate')\n",
    "plt.show()\n",
    "print('AUC: ' + str(sklearn.metrics.roc_auc_score(test_df['is_duplicate'].values, FinalModel.predict_proba(final_features_test)[:, 1])))"
   ]
  },
  {
   "cell_type": "markdown",
   "id": "b9fe9726",
   "metadata": {},
   "source": [
    "The final model achieves an area under the curve of 0.899, which is a decent result."
   ]
  }
 ],
 "metadata": {
  "kernelspec": {
   "display_name": "Python 3 (ipykernel)",
   "language": "python",
   "name": "python3"
  },
  "language_info": {
   "codemirror_mode": {
    "name": "ipython",
    "version": 3
   },
   "file_extension": ".py",
   "mimetype": "text/x-python",
   "name": "python",
   "nbconvert_exporter": "python",
   "pygments_lexer": "ipython3",
   "version": "3.9.7"
  }
 },
 "nbformat": 4,
 "nbformat_minor": 5
}
