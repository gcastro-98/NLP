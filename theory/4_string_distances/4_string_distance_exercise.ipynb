{
 "cells": [
  {
   "cell_type": "markdown",
   "metadata": {},
   "source": [
    "# String distances\n",
    "\n",
    "\n"
   ]
  },
  {
   "cell_type": "code",
   "execution_count": 3,
   "metadata": {
    "ExecuteTime": {
     "end_time": "2022-03-02T16:10:04.124776Z",
     "start_time": "2022-03-02T16:10:02.492955Z"
    }
   },
   "outputs": [],
   "source": [
    "import nltk\n",
    "import numpy as np\n",
    "import pandas as pd\n",
    "#import editdistance"
   ]
  },
  {
   "cell_type": "code",
   "execution_count": 4,
   "metadata": {
    "ExecuteTime": {
     "end_time": "2022-03-02T16:10:06.800324Z",
     "start_time": "2022-03-02T16:10:06.725481Z"
    }
   },
   "outputs": [],
   "source": [
    "# nltk.download('words')\n",
    "words = nltk.corpus.words.words()"
   ]
  },
  {
   "cell_type": "code",
   "execution_count": 5,
   "metadata": {
    "ExecuteTime": {
     "end_time": "2022-03-02T16:10:07.703412Z",
     "start_time": "2022-03-02T16:10:07.394191Z"
    }
   },
   "outputs": [],
   "source": [
    "pd.DataFrame(words).to_csv(\"words_nltk.csv\")"
   ]
  },
  {
   "cell_type": "markdown",
   "metadata": {},
   "source": [
    "## Assuming same cost for all edits"
   ]
  },
  {
   "cell_type": "code",
   "execution_count": 6,
   "metadata": {
    "ExecuteTime": {
     "end_time": "2020-03-05T21:51:15.295513Z",
     "start_time": "2020-03-05T21:51:15.292067Z"
    }
   },
   "outputs": [],
   "source": [
    "def create_memoization_table(X,Y):\n",
    "\n",
    "    len_x = len(X)\n",
    "    len_y = len(Y)\n",
    "    D = np.zeros((len_x+1,len_y+1), dtype=np.int32)\n",
    "    \n",
    "    for i in range(len(X)+1):\n",
    "        for j in range(len(Y)+1):\n",
    "\n",
    "            if i == 0:\n",
    "                D[i][j] = j    \n",
    "\n",
    "            elif j == 0:\n",
    "                D[i][j] = i  \n",
    "\n",
    "            elif X[i-1] == Y[j-1]: \n",
    "                D[i][j] = D[i-1][j-1]\n",
    "\n",
    "            else:\n",
    "                D[i][j] = 1+min(D[i][j-1],      # Insert \n",
    "                                D[i-1][j],      # Remove \n",
    "                                D[i-1][j-1])    # Replace \n",
    "    return D"
   ]
  },
  {
   "cell_type": "code",
   "execution_count": 7,
   "metadata": {
    "ExecuteTime": {
     "end_time": "2020-03-05T21:51:15.306055Z",
     "start_time": "2020-03-05T21:51:15.296900Z"
    }
   },
   "outputs": [
    {
     "data": {
      "text/plain": [
       "6"
      ]
     },
     "execution_count": 7,
     "metadata": {},
     "output_type": "execute_result"
    }
   ],
   "source": [
    "x = \"EXPONENTIAL\"\n",
    "y = \"POLYNOMIAL\"\n",
    "D = create_memoization_table(x,y)\n",
    "D[-1,-1]"
   ]
  },
  {
   "cell_type": "code",
   "execution_count": 8,
   "metadata": {
    "ExecuteTime": {
     "end_time": "2020-03-05T21:51:15.314112Z",
     "start_time": "2020-03-05T21:51:15.307689Z"
    }
   },
   "outputs": [
    {
     "data": {
      "text/plain": [
       "3"
      ]
     },
     "execution_count": 8,
     "metadata": {},
     "output_type": "execute_result"
    }
   ],
   "source": [
    "x = \"Elliot\"\n",
    "y = \"Elia\"\n",
    "D = create_memoization_table(x,y)\n",
    "D[-1,-1]"
   ]
  },
  {
   "cell_type": "code",
   "execution_count": 9,
   "metadata": {
    "ExecuteTime": {
     "end_time": "2020-03-05T21:51:15.321113Z",
     "start_time": "2020-03-05T21:51:15.315852Z"
    }
   },
   "outputs": [
    {
     "name": "stdout",
     "output_type": "stream",
     "text": [
      "\n",
      "The distance between hi and hill is 2\n"
     ]
    }
   ],
   "source": [
    "x = \"hi\"\n",
    "y = \"hill\"\n",
    "D = create_memoization_table(x,y)\n",
    "print(\"\\nThe distance between {} and {} is {}\".format(x,y,D[-1,-1]))"
   ]
  },
  {
   "cell_type": "markdown",
   "metadata": {},
   "source": [
    "##### Timing implementation"
   ]
  },
  {
   "cell_type": "code",
   "execution_count": 10,
   "metadata": {
    "ExecuteTime": {
     "end_time": "2020-03-05T21:51:15.324736Z",
     "start_time": "2020-03-05T21:51:15.322924Z"
    }
   },
   "outputs": [],
   "source": [
    "x = \"EXPONENTIAL\"\n",
    "y = \"POLYNOMIAL\""
   ]
  },
  {
   "cell_type": "code",
   "execution_count": 11,
   "metadata": {
    "ExecuteTime": {
     "end_time": "2020-03-05T21:51:15.328826Z",
     "start_time": "2020-03-05T21:51:15.326760Z"
    }
   },
   "outputs": [],
   "source": [
    "def edit_distance_fast(x,y):\n",
    "    D = create_memoization_table(x,y)\n",
    "    return D[-1,-1]"
   ]
  },
  {
   "cell_type": "code",
   "execution_count": 12,
   "metadata": {
    "ExecuteTime": {
     "end_time": "2020-03-05T21:51:28.598021Z",
     "start_time": "2020-03-05T21:51:15.330383Z"
    },
    "scrolled": true
   },
   "outputs": [
    {
     "name": "stdout",
     "output_type": "stream",
     "text": [
      "178 µs ± 2.28 µs per loop (mean ± std. dev. of 7 runs, 10,000 loops each)\n"
     ]
    }
   ],
   "source": [
    "%%timeit\n",
    "edit_distance_fast(x,y)"
   ]
  },
  {
   "cell_type": "code",
   "execution_count": 13,
   "metadata": {
    "ExecuteTime": {
     "end_time": "2020-03-05T21:51:34.514828Z",
     "start_time": "2020-03-05T21:51:28.599457Z"
    },
    "scrolled": false
   },
   "outputs": [
    {
     "name": "stdout",
     "output_type": "stream",
     "text": [
      "54.5 µs ± 101 ns per loop (mean ± std. dev. of 7 runs, 10,000 loops each)\n"
     ]
    }
   ],
   "source": [
    "%%timeit\n",
    "nltk.edit_distance(x,y)"
   ]
  },
  {
   "cell_type": "code",
   "execution_count": 14,
   "metadata": {
    "ExecuteTime": {
     "end_time": "2020-03-05T21:51:34.519906Z",
     "start_time": "2020-03-05T21:51:34.516319Z"
    }
   },
   "outputs": [
    {
     "data": {
      "text/plain": [
       "True"
      ]
     },
     "execution_count": 14,
     "metadata": {},
     "output_type": "execute_result"
    }
   ],
   "source": [
    "nltk.edit_distance(x,y) == edit_distance_fast(x,y)"
   ]
  },
  {
   "cell_type": "markdown",
   "metadata": {},
   "source": [
    "### Different costs per operation"
   ]
  },
  {
   "cell_type": "code",
   "execution_count": 15,
   "metadata": {
    "ExecuteTime": {
     "end_time": "2020-03-05T21:51:34.525996Z",
     "start_time": "2020-03-05T21:51:34.521284Z"
    }
   },
   "outputs": [],
   "source": [
    "def memoization_table_weighted(X,Y):\n",
    "\n",
    "    len_x = len(X)\n",
    "    len_y = len(Y)\n",
    "    D = np.zeros((len_x + 1, len_y + 1), dtype=np.int32)\n",
    "    D[:,0] = range(len_x + 1)\n",
    "    D[0,:] = range(len_y + 1)\n",
    "\n",
    "    w_sub = 1\n",
    "    w_del = 1\n",
    "    w_ins = 1\n",
    "\n",
    "    for i in range(1, len_x + 1):\n",
    "        for j in range(1, len_y + 1):\n",
    "            del_char = D[i-1,j] + w_del\n",
    "            ins_char = D[i,j-1] + w_ins\n",
    "\n",
    "            if X[i-1] == Y[j-1]:\n",
    "                Z = 0\n",
    "            else:\n",
    "                Z = w_sub\n",
    "            sub_char = D[i-1,j-1] + Z\n",
    "\n",
    "            D[i,j] = min(del_char, ins_char, sub_char)\n",
    "\n",
    "    return D"
   ]
  },
  {
   "cell_type": "code",
   "execution_count": 16,
   "metadata": {
    "ExecuteTime": {
     "end_time": "2020-03-05T21:51:34.532770Z",
     "start_time": "2020-03-05T21:51:34.527356Z"
    },
    "scrolled": false
   },
   "outputs": [
    {
     "name": "stdout",
     "output_type": "stream",
     "text": [
      "\n",
      "The distance between Elliot and Elia is 3\n"
     ]
    }
   ],
   "source": [
    "x = \"Elliot\"\n",
    "y = \"Elia\"\n",
    "D = memoization_table_weighted(x, y)\n",
    "print(\"\\nThe distance between {} and {} is {}\".format(x,y,D[-1,-1]))"
   ]
  },
  {
   "cell_type": "markdown",
   "metadata": {},
   "source": [
    "# Speeding up code"
   ]
  },
  {
   "cell_type": "markdown",
   "metadata": {},
   "source": [
    "Simple example with cython"
   ]
  },
  {
   "cell_type": "code",
   "execution_count": 17,
   "metadata": {
    "ExecuteTime": {
     "end_time": "2022-03-02T16:46:51.147704Z",
     "start_time": "2022-03-02T16:46:51.142428Z"
    }
   },
   "outputs": [],
   "source": [
    "%reload_ext cython"
   ]
  },
  {
   "cell_type": "code",
   "execution_count": 18,
   "metadata": {
    "ExecuteTime": {
     "end_time": "2022-03-02T16:46:52.956001Z",
     "start_time": "2022-03-02T16:46:52.951437Z"
    }
   },
   "outputs": [],
   "source": [
    "def fib(n):\n",
    "    a = 0.\n",
    "    b = 1.\n",
    "    for i in range(n):\n",
    "        a, b = a + b, a\n",
    "    return a"
   ]
  },
  {
   "cell_type": "code",
   "execution_count": 25,
   "metadata": {
    "ExecuteTime": {
     "end_time": "2022-03-02T16:49:30.341679Z",
     "start_time": "2022-03-02T16:49:29.774615Z"
    }
   },
   "outputs": [],
   "source": [
    "%%cython --a\n",
    "cpdef float cy_fib(int n):\n",
    "    cdef int i\n",
    "    cdef float a=0.0, b=1.0\n",
    "    for i in range(n):\n",
    "        a, b = a + b, a\n",
    "    return a"
   ]
  },
  {
   "cell_type": "code",
   "execution_count": 26,
   "metadata": {
    "ExecuteTime": {
     "end_time": "2022-03-02T16:49:54.233049Z",
     "start_time": "2022-03-02T16:49:54.226344Z"
    }
   },
   "outputs": [
    {
     "data": {
      "text/plain": [
       "55.0"
      ]
     },
     "execution_count": 26,
     "metadata": {},
     "output_type": "execute_result"
    }
   ],
   "source": [
    "fib(10)"
   ]
  },
  {
   "cell_type": "code",
   "execution_count": 27,
   "metadata": {
    "ExecuteTime": {
     "end_time": "2022-03-02T16:49:54.559814Z",
     "start_time": "2022-03-02T16:49:54.555571Z"
    }
   },
   "outputs": [
    {
     "ename": "NameError",
     "evalue": "name 'cy_fib' is not defined",
     "output_type": "error",
     "traceback": [
      "\u001b[0;31m---------------------------------------------------------------------------\u001b[0m",
      "\u001b[0;31mNameError\u001b[0m                                 Traceback (most recent call last)",
      "Input \u001b[0;32mIn [27]\u001b[0m, in \u001b[0;36m<cell line: 1>\u001b[0;34m()\u001b[0m\n\u001b[0;32m----> 1\u001b[0m \u001b[43mcy_fib\u001b[49m(\u001b[38;5;241m10\u001b[39m)\n",
      "\u001b[0;31mNameError\u001b[0m: name 'cy_fib' is not defined"
     ]
    }
   ],
   "source": [
    "cy_fib(10)"
   ]
  },
  {
   "cell_type": "code",
   "execution_count": 60,
   "metadata": {
    "ExecuteTime": {
     "end_time": "2022-03-02T16:49:58.097896Z",
     "start_time": "2022-03-02T16:49:58.019500Z"
    }
   },
   "outputs": [
    {
     "ename": "ImportError",
     "evalue": "cannot import name 'cy_fib' from '__main__' (unknown location)",
     "output_type": "error",
     "traceback": [
      "\u001b[0;31m---------------------------------------------------------------------------\u001b[0m",
      "\u001b[0;31mImportError\u001b[0m                               Traceback (most recent call last)",
      "\u001b[0;32m/tmp/ipykernel_542/293991744.py\u001b[0m in \u001b[0;36m<module>\u001b[0;34m\u001b[0m\n\u001b[1;32m      3\u001b[0m \u001b[0mn_times\u001b[0m \u001b[0;34m=\u001b[0m \u001b[0;36m100000\u001b[0m\u001b[0;34m\u001b[0m\u001b[0;34m\u001b[0m\u001b[0m\n\u001b[1;32m      4\u001b[0m \u001b[0mt_fib\u001b[0m \u001b[0;34m=\u001b[0m \u001b[0mtimeit\u001b[0m\u001b[0;34m.\u001b[0m\u001b[0mtimeit\u001b[0m\u001b[0;34m(\u001b[0m\u001b[0;34m\"fib(10)\"\u001b[0m\u001b[0;34m,\u001b[0m \u001b[0msetup\u001b[0m\u001b[0;34m=\u001b[0m\u001b[0;34m\"from __main__ import fib\"\u001b[0m\u001b[0;34m,\u001b[0m\u001b[0mnumber\u001b[0m\u001b[0;34m=\u001b[0m\u001b[0mn_times\u001b[0m\u001b[0;34m)\u001b[0m\u001b[0;34m\u001b[0m\u001b[0;34m\u001b[0m\u001b[0m\n\u001b[0;32m----> 5\u001b[0;31m \u001b[0mt_cyfib\u001b[0m \u001b[0;34m=\u001b[0m \u001b[0mtimeit\u001b[0m\u001b[0;34m.\u001b[0m\u001b[0mtimeit\u001b[0m\u001b[0;34m(\u001b[0m\u001b[0;34m\"cy_fib(10)\"\u001b[0m\u001b[0;34m,\u001b[0m \u001b[0msetup\u001b[0m\u001b[0;34m=\u001b[0m\u001b[0;34m\"from __main__ import cy_fib\"\u001b[0m\u001b[0;34m,\u001b[0m\u001b[0mnumber\u001b[0m\u001b[0;34m=\u001b[0m\u001b[0mn_times\u001b[0m\u001b[0;34m)\u001b[0m\u001b[0;34m\u001b[0m\u001b[0;34m\u001b[0m\u001b[0m\n\u001b[0m\u001b[1;32m      6\u001b[0m \u001b[0mt_fib_unit\u001b[0m \u001b[0;34m=\u001b[0m \u001b[0mt_fib\u001b[0m\u001b[0;34m/\u001b[0m\u001b[0mn_times\u001b[0m\u001b[0;34m\u001b[0m\u001b[0;34m\u001b[0m\u001b[0m\n\u001b[1;32m      7\u001b[0m \u001b[0;34m\u001b[0m\u001b[0m\n",
      "\u001b[0;32m~/anaconda3/lib/python3.9/timeit.py\u001b[0m in \u001b[0;36mtimeit\u001b[0;34m(stmt, setup, timer, number, globals)\u001b[0m\n\u001b[1;32m    231\u001b[0m            number=default_number, globals=None):\n\u001b[1;32m    232\u001b[0m     \u001b[0;34m\"\"\"Convenience function to create Timer object and call timeit method.\"\"\"\u001b[0m\u001b[0;34m\u001b[0m\u001b[0;34m\u001b[0m\u001b[0m\n\u001b[0;32m--> 233\u001b[0;31m     \u001b[0;32mreturn\u001b[0m \u001b[0mTimer\u001b[0m\u001b[0;34m(\u001b[0m\u001b[0mstmt\u001b[0m\u001b[0;34m,\u001b[0m \u001b[0msetup\u001b[0m\u001b[0;34m,\u001b[0m \u001b[0mtimer\u001b[0m\u001b[0;34m,\u001b[0m \u001b[0mglobals\u001b[0m\u001b[0;34m)\u001b[0m\u001b[0;34m.\u001b[0m\u001b[0mtimeit\u001b[0m\u001b[0;34m(\u001b[0m\u001b[0mnumber\u001b[0m\u001b[0;34m)\u001b[0m\u001b[0;34m\u001b[0m\u001b[0;34m\u001b[0m\u001b[0m\n\u001b[0m\u001b[1;32m    234\u001b[0m \u001b[0;34m\u001b[0m\u001b[0m\n\u001b[1;32m    235\u001b[0m def repeat(stmt=\"pass\", setup=\"pass\", timer=default_timer,\n",
      "\u001b[0;32m~/anaconda3/lib/python3.9/timeit.py\u001b[0m in \u001b[0;36mtimeit\u001b[0;34m(self, number)\u001b[0m\n\u001b[1;32m    175\u001b[0m         \u001b[0mgc\u001b[0m\u001b[0;34m.\u001b[0m\u001b[0mdisable\u001b[0m\u001b[0;34m(\u001b[0m\u001b[0;34m)\u001b[0m\u001b[0;34m\u001b[0m\u001b[0;34m\u001b[0m\u001b[0m\n\u001b[1;32m    176\u001b[0m         \u001b[0;32mtry\u001b[0m\u001b[0;34m:\u001b[0m\u001b[0;34m\u001b[0m\u001b[0;34m\u001b[0m\u001b[0m\n\u001b[0;32m--> 177\u001b[0;31m             \u001b[0mtiming\u001b[0m \u001b[0;34m=\u001b[0m \u001b[0mself\u001b[0m\u001b[0;34m.\u001b[0m\u001b[0minner\u001b[0m\u001b[0;34m(\u001b[0m\u001b[0mit\u001b[0m\u001b[0;34m,\u001b[0m \u001b[0mself\u001b[0m\u001b[0;34m.\u001b[0m\u001b[0mtimer\u001b[0m\u001b[0;34m)\u001b[0m\u001b[0;34m\u001b[0m\u001b[0;34m\u001b[0m\u001b[0m\n\u001b[0m\u001b[1;32m    178\u001b[0m         \u001b[0;32mfinally\u001b[0m\u001b[0;34m:\u001b[0m\u001b[0;34m\u001b[0m\u001b[0;34m\u001b[0m\u001b[0m\n\u001b[1;32m    179\u001b[0m             \u001b[0;32mif\u001b[0m \u001b[0mgcold\u001b[0m\u001b[0;34m:\u001b[0m\u001b[0;34m\u001b[0m\u001b[0;34m\u001b[0m\u001b[0m\n",
      "\u001b[0;32m~/anaconda3/lib/python3.9/timeit.py\u001b[0m in \u001b[0;36minner\u001b[0;34m(_it, _timer)\u001b[0m\n",
      "\u001b[0;31mImportError\u001b[0m: cannot import name 'cy_fib' from '__main__' (unknown location)"
     ]
    }
   ],
   "source": [
    "import timeit\n",
    "\n",
    "n_times = 100000\n",
    "t_fib = timeit.timeit(\"fib(10)\", setup=\"from __main__ import fib\",number=n_times)\n",
    "t_cyfib = timeit.timeit(\"cy_fib(10)\", setup=\"from __main__ import cy_fib\",number=n_times)\n",
    "t_fib_unit = t_fib/n_times\n",
    "\n",
    "t_cyfib      = timeit.timeit(\"cy_fib(10)\", setup=\"from __main__ import cy_fib\",number=n_times)\n",
    "t_cyfib_unit = t_cyfib/n_times\n",
    "\n",
    "print(\" Python version took: {} sec\\n Cython version took: {} sec\\n Cython is {:.0f}x faster\"\\\n",
    "      .format(t_fib, t_cyfib, t_fib/t_cyfib))\n",
    "\n",
    "print(\"\\n Python version 1 run took: {} sec\\n Cython version took: {} sec\\n Cython is {:.0f}x faster\"\\\n",
    "      .format(t_fib_unit, t_cyfib_unit, t_fib_unit/t_cyfib_unit))"
   ]
  },
  {
   "cell_type": "markdown",
   "metadata": {},
   "source": [
    "### Speeding up edit distance\n",
    "\n"
   ]
  },
  {
   "cell_type": "markdown",
   "metadata": {},
   "source": [
    "##### Exercise fill in cy_create_memoization_table so that it returns the matrix filled to compute the edit distance"
   ]
  },
  {
   "cell_type": "code",
   "execution_count": 30,
   "metadata": {
    "ExecuteTime": {
     "end_time": "2020-03-05T21:52:48.363858Z",
     "start_time": "2020-03-05T21:52:46.379226Z"
    },
    "scrolled": false
   },
   "outputs": [],
   "source": [
    "%%cython --a\n",
    "\n",
    "cimport numpy as np\n",
    "import numpy as np\n",
    "cimport cython\n",
    "\n",
    "@cython.boundscheck(False) # turn off bounds-checking for entire function\n",
    "@cython.wraparound(False)  # turn off negative index wrapping for entire function\n",
    "cpdef cy_create_memoization_table(str X, str Y):\n",
    "\n",
    "    cdef int i, j, del_char, ins_char, sub_char, Z\n",
    "    cdef int len_x = len(X)\n",
    "    cdef int len_y = len(Y)\n",
    "    cdef int [:, :] D =  np.zeros((len_x + 1, len_y + 1), dtype=np.int32)\n",
    "    \n",
    "    for i in range(len_x+1):\n",
    "        D[i,0] = i\n",
    "\n",
    "    for j in range(len_y+1):\n",
    "        D[0,j] = j\n",
    "\n",
    "    for i in range(1, len_x + 1):\n",
    "        for j in range(1, len_y + 1):\n",
    "            del_char = D[i-1,j] + 1\n",
    "            ins_char = D[i,j-1] + 1\n",
    "\n",
    "            if X[i-1] == Y[j-1]:\n",
    "                Z = 0\n",
    "            else:\n",
    "                Z = 1\n",
    "            sub_char = D[i-1,j-1] + Z\n",
    "\n",
    "            D[i,j] = min(del_char, ins_char, sub_char)\n",
    "    \n",
    "    return D"
   ]
  },
  {
   "cell_type": "code",
   "execution_count": 31,
   "metadata": {},
   "outputs": [
    {
     "data": {
      "text/plain": [
       "array([[0, 1, 2, 3, 4],\n",
       "       [1, 0, 1, 2, 3],\n",
       "       [2, 1, 0, 1, 2],\n",
       "       [3, 2, 1, 1, 2],\n",
       "       [4, 3, 2, 1, 2],\n",
       "       [5, 4, 3, 2, 2],\n",
       "       [6, 5, 4, 3, 3]], dtype=int32)"
      ]
     },
     "execution_count": 31,
     "metadata": {},
     "output_type": "execute_result"
    }
   ],
   "source": [
    "D1 = create_memoization_table(x,y)\n",
    "D1"
   ]
  },
  {
   "cell_type": "code",
   "execution_count": 32,
   "metadata": {
    "scrolled": true
   },
   "outputs": [
    {
     "ename": "NameError",
     "evalue": "name 'cy_create_memoization_table' is not defined",
     "output_type": "error",
     "traceback": [
      "\u001b[0;31m---------------------------------------------------------------------------\u001b[0m",
      "\u001b[0;31mNameError\u001b[0m                                 Traceback (most recent call last)",
      "\u001b[0;32m/tmp/ipykernel_542/3195839442.py\u001b[0m in \u001b[0;36m<module>\u001b[0;34m\u001b[0m\n\u001b[0;32m----> 1\u001b[0;31m \u001b[0mD2\u001b[0m \u001b[0;34m=\u001b[0m \u001b[0mcy_create_memoization_table\u001b[0m\u001b[0;34m(\u001b[0m\u001b[0mx\u001b[0m\u001b[0;34m,\u001b[0m\u001b[0my\u001b[0m\u001b[0;34m)\u001b[0m\u001b[0;34m\u001b[0m\u001b[0;34m\u001b[0m\u001b[0m\n\u001b[0m\u001b[1;32m      2\u001b[0m \u001b[0mD2\u001b[0m \u001b[0;34m=\u001b[0m \u001b[0mnp\u001b[0m\u001b[0;34m.\u001b[0m\u001b[0masarray\u001b[0m\u001b[0;34m(\u001b[0m\u001b[0mD2\u001b[0m\u001b[0;34m)\u001b[0m\u001b[0;34m\u001b[0m\u001b[0;34m\u001b[0m\u001b[0m\n",
      "\u001b[0;31mNameError\u001b[0m: name 'cy_create_memoization_table' is not defined"
     ]
    }
   ],
   "source": [
    "D2 = cy_create_memoization_table(x,y)\n",
    "D2 = np.asarray(D2)"
   ]
  },
  {
   "cell_type": "code",
   "execution_count": 33,
   "metadata": {},
   "outputs": [
    {
     "ename": "NameError",
     "evalue": "name 'D2' is not defined",
     "output_type": "error",
     "traceback": [
      "\u001b[0;31m---------------------------------------------------------------------------\u001b[0m",
      "\u001b[0;31mNameError\u001b[0m                                 Traceback (most recent call last)",
      "\u001b[0;32m/tmp/ipykernel_542/2491929814.py\u001b[0m in \u001b[0;36m<module>\u001b[0;34m\u001b[0m\n\u001b[0;32m----> 1\u001b[0;31m \u001b[0mD2\u001b[0m\u001b[0;34m\u001b[0m\u001b[0;34m\u001b[0m\u001b[0m\n\u001b[0m",
      "\u001b[0;31mNameError\u001b[0m: name 'D2' is not defined"
     ]
    }
   ],
   "source": [
    "D2"
   ]
  },
  {
   "cell_type": "code",
   "execution_count": 34,
   "metadata": {},
   "outputs": [
    {
     "ename": "NameError",
     "evalue": "name 'timeit' is not defined",
     "output_type": "error",
     "traceback": [
      "\u001b[0;31m---------------------------------------------------------------------------\u001b[0m",
      "\u001b[0;31mNameError\u001b[0m                                 Traceback (most recent call last)",
      "\u001b[0;32m/tmp/ipykernel_542/3797687478.py\u001b[0m in \u001b[0;36m<module>\u001b[0;34m\u001b[0m\n\u001b[0;32m----> 1\u001b[0;31m t_create_memoization_table = timeit.timeit(\"x='exponential'; y='polynomial'; create_memoization_table(x,y)\",\n\u001b[0m\u001b[1;32m      2\u001b[0m                                            \u001b[0msetup\u001b[0m\u001b[0;34m=\u001b[0m\u001b[0;34m\"import numpy as np; from __main__ import create_memoization_table\"\u001b[0m\u001b[0;34m,\u001b[0m\u001b[0;34m\u001b[0m\u001b[0;34m\u001b[0m\u001b[0m\n\u001b[1;32m      3\u001b[0m                                           number=5000)\n",
      "\u001b[0;31mNameError\u001b[0m: name 'timeit' is not defined"
     ]
    }
   ],
   "source": [
    "t_create_memoization_table = timeit.timeit(\"x='exponential'; y='polynomial'; create_memoization_table(x,y)\",\n",
    "                                           setup=\"import numpy as np; from __main__ import create_memoization_table\",\n",
    "                                          number=5000)"
   ]
  },
  {
   "cell_type": "code",
   "execution_count": 89,
   "metadata": {},
   "outputs": [],
   "source": [
    "t_cy_create_memoization_table = timeit.timeit(\"x='exponential'; y='polynomial'; cy_create_memoization_table(x,y)\",\n",
    "                                              setup=\"from __main__ import cy_create_memoization_table\",\n",
    "                                              number=5000)"
   ]
  },
  {
   "cell_type": "code",
   "execution_count": 90,
   "metadata": {},
   "outputs": [],
   "source": [
    "t_nltk = timeit.timeit(\"x='exponential'; y='polynomial'; nltk.edit_distance(x,y)\",\n",
    "                        setup=\"import nltk \",\n",
    "                        number=5000)"
   ]
  },
  {
   "cell_type": "code",
   "execution_count": 99,
   "metadata": {
    "scrolled": true
   },
   "outputs": [
    {
     "name": "stdout",
     "output_type": "stream",
     "text": [
      " \n",
      "      Python version took: 1.3459972919999927 sec\n",
      "      Cython version took: 0.006109708999929353 sec\n",
      "      nltk   version took: 0.4242933330000369 sec\n",
      "      Cython is 220x faster than python\n",
      "      Cython is 69x faster than nltk\n",
      "      \n"
     ]
    }
   ],
   "source": [
    "print(\"\"\" \n",
    "      Python version took: {} sec\n",
    "      Cython version took: {} sec\n",
    "      nltk   version took: {} sec\n",
    "      Cython is {:.0f}x faster than python\n",
    "      Cython is {:.0f}x faster than nltk\n",
    "      \"\"\"\\\n",
    "      .format(t_create_memoization_table, \n",
    "              t_cy_create_memoization_table,\n",
    "              t_nltk, \n",
    "              t_create_memoization_table/t_cy_create_memoization_table,\n",
    "              t_nltk/t_cy_create_memoization_table))\n"
   ]
  },
  {
   "cell_type": "code",
   "execution_count": 100,
   "metadata": {},
   "outputs": [],
   "source": [
    "def edit_distance(x,y):\n",
    "    return cy_create_memoization_table(x,y)[-1,-1]"
   ]
  },
  {
   "cell_type": "markdown",
   "metadata": {},
   "source": [
    "### Return to the experiment where we computed closest word\n",
    "\n",
    "\n",
    "##### Exercise: Return the last component of the DynamicProgramming matrix containing the edit distance"
   ]
  },
  {
   "cell_type": "code",
   "execution_count": 96,
   "metadata": {},
   "outputs": [],
   "source": [
    "import editdistance"
   ]
  },
  {
   "cell_type": "code",
   "execution_count": 93,
   "metadata": {},
   "outputs": [
    {
     "data": {
      "text/plain": [
       "236736"
      ]
     },
     "execution_count": 93,
     "metadata": {},
     "output_type": "execute_result"
    }
   ],
   "source": [
    "words = nltk.corpus.words.words()\n",
    "len(words)"
   ]
  },
  {
   "cell_type": "code",
   "execution_count": 94,
   "metadata": {},
   "outputs": [
    {
     "name": "stdout",
     "output_type": "stream",
     "text": [
      "\n",
      "the closest word is drawing\n",
      "CPU times: user 13.2 s, sys: 19.7 ms, total: 13.3 s\n",
      "Wall time: 13.3 s\n"
     ]
    }
   ],
   "source": [
    "%%time\n",
    "mistake = \"drauing\" \n",
    "distances = []\n",
    "for word in words:\n",
    "    ed = nltk.edit_distance(mistake, word)\n",
    "    distances.append(ed)\n",
    "    \n",
    "print(\"\\nthe closest word is\", words[np.argmin(distances)])"
   ]
  },
  {
   "cell_type": "code",
   "execution_count": 97,
   "metadata": {},
   "outputs": [
    {
     "name": "stdout",
     "output_type": "stream",
     "text": [
      "\n",
      "the closest word is drawing\n",
      "CPU times: user 343 ms, sys: 2.96 ms, total: 345 ms\n",
      "Wall time: 345 ms\n"
     ]
    }
   ],
   "source": [
    "%%time\n",
    "mistake = \"drauing\" \n",
    "cy_distances = []\n",
    "for word in words:\n",
    "    ed = editdistance.eval(mistake, word)\n",
    "    cy_distances.append(ed)\n",
    "    \n",
    "print(\"\\nthe closest word is\", words[np.argmin(cy_distances)])"
   ]
  },
  {
   "cell_type": "code",
   "execution_count": 101,
   "metadata": {},
   "outputs": [
    {
     "name": "stdout",
     "output_type": "stream",
     "text": [
      "\n",
      "the closest word is drawing\n",
      "CPU times: user 374 ms, sys: 2.7 ms, total: 377 ms\n",
      "Wall time: 376 ms\n"
     ]
    }
   ],
   "source": [
    "%%time\n",
    "mistake = \"drauing\" \n",
    "cy_distances = []\n",
    "for word in words:\n",
    "    ed = edit_distance(mistake, word)\n",
    "    cy_distances.append(ed)\n",
    "    \n",
    "print(\"\\nthe closest word is\", words[np.argmin(cy_distances)])"
   ]
  },
  {
   "cell_type": "code",
   "execution_count": 102,
   "metadata": {
    "scrolled": true
   },
   "outputs": [
    {
     "data": {
      "text/plain": [
       "True"
      ]
     },
     "execution_count": 102,
     "metadata": {},
     "output_type": "execute_result"
    }
   ],
   "source": [
    "distances == cy_distances"
   ]
  },
  {
   "cell_type": "code",
   "execution_count": 103,
   "metadata": {},
   "outputs": [
    {
     "data": {
      "text/plain": [
       "(0, 0)"
      ]
     },
     "execution_count": 103,
     "metadata": {},
     "output_type": "execute_result"
    }
   ],
   "source": [
    "editdistance.eval(\"hi\", \"hi\"), edit_distance(\"hi\",\"hi\")"
   ]
  },
  {
   "cell_type": "code",
   "execution_count": 104,
   "metadata": {},
   "outputs": [
    {
     "data": {
      "text/plain": [
       "(1, 1)"
      ]
     },
     "execution_count": 104,
     "metadata": {},
     "output_type": "execute_result"
    }
   ],
   "source": [
    "editdistance.eval(\"hi\", \"ho\"), edit_distance(\"hi\",\"ho\")"
   ]
  },
  {
   "cell_type": "markdown",
   "metadata": {},
   "source": [
    "\n",
    "\n",
    "##### Interesting material on string similarities\n",
    "\n",
    "Approximate string matching:\n",
    "\n",
    "https://medium.com/@wolfgarbe/fast-approximate-string-matching-with-large-edit-distances-in-big-data-2015-9174a0968c0b\n",
    "\n",
    "Levenshtein distance using a trie:\n",
    "\n",
    "http://stevehanov.ca/blog/?id=114\n",
    "\n",
    "About jaccard distance:\n",
    "\n",
    "https://python.gotrained.com/nltk-edit-distance-jaccard-distance/\n",
    "\n",
    "\n",
    "Nice work on string similarities:\n",
    "\n",
    "http://citeseerx.ist.psu.edu/viewdoc/download?doi=10.1.1.19.7158&rep=rep1&type=pdf\n",
    "\n"
   ]
  }
 ],
 "metadata": {
  "kernelspec": {
   "display_name": "ds",
   "language": "python",
   "name": "ds"
  },
  "language_info": {
   "codemirror_mode": {
    "name": "ipython",
    "version": 3
   },
   "file_extension": ".py",
   "mimetype": "text/x-python",
   "name": "python",
   "nbconvert_exporter": "python",
   "pygments_lexer": "ipython3",
   "version": "3.9.16"
  },
  "toc": {
   "base_numbering": 1,
   "nav_menu": {},
   "number_sections": true,
   "sideBar": true,
   "skip_h1_title": false,
   "title_cell": "Table of Contents",
   "title_sidebar": "Contents",
   "toc_cell": false,
   "toc_position": {},
   "toc_section_display": true,
   "toc_window_display": false
  },
  "varInspector": {
   "cols": {
    "lenName": 16,
    "lenType": 16,
    "lenVar": 40
   },
   "kernels_config": {
    "python": {
     "delete_cmd_postfix": "",
     "delete_cmd_prefix": "del ",
     "library": "var_list.py",
     "varRefreshCmd": "print(var_dic_list())"
    },
    "r": {
     "delete_cmd_postfix": ") ",
     "delete_cmd_prefix": "rm(",
     "library": "var_list.r",
     "varRefreshCmd": "cat(var_dic_list()) "
    }
   },
   "types_to_exclude": [
    "module",
    "function",
    "builtin_function_or_method",
    "instance",
    "_Feature"
   ],
   "window_display": false
  }
 },
 "nbformat": 4,
 "nbformat_minor": 1
}
